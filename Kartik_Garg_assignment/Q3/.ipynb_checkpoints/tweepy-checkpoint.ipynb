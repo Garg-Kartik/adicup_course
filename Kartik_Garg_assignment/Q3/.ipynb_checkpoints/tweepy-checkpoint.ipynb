{
 "cells": [
  {
   "cell_type": "code",
   "execution_count": 1,
   "metadata": {},
   "outputs": [],
   "source": [
    "import os\n",
    "import json\n",
    "from tweepy.streaming import StreamListener\n",
    "from tweepy import OAuthHandler\n",
    "from tweepy import Stream\n",
    "import operator"
   ]
  },
  {
   "cell_type": "code",
   "execution_count": 2,
   "metadata": {},
   "outputs": [],
   "source": [
    "consumer_key=\"abpCxVUfyeYY8Nv64NJXqF2Cy\"\n",
    "consumer_secret=\"gi0qbg7Vur56rm5xvUYBoUybs5nXK7EGfrMwpXu2WEpafutXdg\"\n",
    "access_token=\"408602898-Opye4sKhHFmPkouYoHuM9HKsjAoaNtUWNXA25ytW\"\n",
    "access_token_secret=\"nrbNQpPlzAvYdfZ96Z3PZpc2JHoswMogWlirum1wMVoiw\""
   ]
  },
  {
   "cell_type": "code",
   "execution_count": 3,
   "metadata": {},
   "outputs": [],
   "source": [
    "class StdOutListener(StreamListener):\n",
    "    def on_data(self, data):\n",
    "        feed_file=open(\"twitter_feed.out\",\"a\")\n",
    "        feed_file.write(data)\n",
    "        feed_file.close()\n",
    "        print('.')\n",
    "        return True\n",
    "    \n",
    "    def on_error(self,status):\n",
    "        feed_file=open(\"twitter_feed.out\",\"a\")\n",
    "        feed_file.write(data)\n",
    "        feed_file.close()\n",
    "        \n",
    "keywords=[]\n",
    "keywords.append('cancer')\n",
    "# keywords.append('Angela Merkel')\n",
    "# keywords.append('DBashar al-Assad')\n",
    "# keywords.append('Vladimir Putin')\n",
    "# keywords.append('Xi Jinping')\n",
    "\n",
    "if os.path.isfile(\"twitter_feed.out\"):\n",
    "    my_listener=StdOutListener()\n",
    "    auth=OAuthHandler(consumer_key,consumer_secret)\n",
    "    auth.set_access_token(access_token,access_token_secret)\n",
    "    stream=Stream(auth,my_listener)\n",
    "    print(\"now filtering\")\n",
    "    stream.filter(track=keywords)"
   ]
  },
  {
   "cell_type": "code",
   "execution_count": null,
   "metadata": {},
   "outputs": [],
   "source": []
  }
 ],
 "metadata": {
  "kernelspec": {
   "display_name": "Python [conda env:anaconda3]",
   "language": "python",
   "name": "conda-env-anaconda3-py"
  },
  "language_info": {
   "codemirror_mode": {
    "name": "ipython",
    "version": 2
   },
   "file_extension": ".py",
   "mimetype": "text/x-python",
   "name": "python",
   "nbconvert_exporter": "python",
   "pygments_lexer": "ipython2",
   "version": "2.7.15"
  }
 },
 "nbformat": 4,
 "nbformat_minor": 2
}
