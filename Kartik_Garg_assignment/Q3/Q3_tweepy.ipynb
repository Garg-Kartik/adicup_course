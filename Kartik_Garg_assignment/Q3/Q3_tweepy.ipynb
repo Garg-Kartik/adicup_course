{
 "cells": [
  {
   "cell_type": "code",
   "execution_count": 1,
   "metadata": {},
   "outputs": [],
   "source": [
    "import os\n",
    "import json\n",
    "from tweepy.streaming import StreamListener\n",
    "from tweepy import OAuthHandler\n",
    "from tweepy import Stream\n",
    "import operator"
   ]
  },
  {
   "cell_type": "code",
   "execution_count": 2,
   "metadata": {},
   "outputs": [],
   "source": [
    "consumer_key=\"abpCxVUfyeYY8Nv64NJXqF2Cy\"\n",
    "consumer_secret=\"gi0qbg7Vur56rm5xvUYBoUybs5nXK7EGfrMwpXu2WEpafutXdg\"\n",
    "access_token=\"408602898-Opye4sKhHFmPkouYoHuM9HKsjAoaNtUWNXA25ytW\"\n",
    "access_token_secret=\"nrbNQpPlzAvYdfZ96Z3PZpc2JHoswMogWlirum1wMVoiw\""
   ]
  },
  {
   "cell_type": "code",
   "execution_count": 3,
   "metadata": {},
   "outputs": [],
   "source": [
    "class StdOutListener(StreamListener):\n",
    "    def on_data(self, data):\n",
    "        feed_file=open(\"twitter_feed.out\",\"a\")\n",
    "        feed_file.write(data)\n",
    "        feed_file.close()\n",
    "        print('.')\n",
    "        return True\n",
    "    \n",
    "    def on_error(self,status):\n",
    "        feed_file=open(\"twitter_feed.out\",\"a\")\n",
    "        feed_file.write(data)\n",
    "        feed_file.close()\n",
    "        \n",
    "keywords=[]\n",
    "keywords.append('cancer')\n",
    "# keywords.append('Angela Merkel')\n",
    "# keywords.append('DBashar al-Assad')\n",
    "# keywords.append('Vladimir Putin')\n",
    "# keywords.append('Xi Jinping')\n",
    "\n",
    "if os.path.isfile(\"twitter_feed.out\"):\n",
    "    my_listener=StdOutListener()\n",
    "    auth=OAuthHandler(consumer_key,consumer_secret)\n",
    "    auth.set_access_token(access_token,access_token_secret)\n",
    "    stream=Stream(auth,my_listener)\n",
    "    print(\"now filtering\")\n",
    "    stream.filter(track=keywords)"
   ]
  },
  {
   "cell_type": "code",
   "execution_count": 24,
   "metadata": {},
   "outputs": [],
   "source": [
    "def read_file():\n",
    "    with open(\"twitter_feed.out\",\"r\") as f:\n",
    "        data = f.readlines()\n",
    "    print(data)\n",
    "\n",
    "    list1=reduce(lambda x,y :x+y ,data)\n",
    "    str1 = ''.join(str(e) for e in list1)\n",
    "    list2=str1.split()\n",
    "    return list2"
   ]
  },
  {
   "cell_type": "code",
   "execution_count": 25,
   "metadata": {},
   "outputs": [],
   "source": [
    "def countX(lst, x): \n",
    "    return lst.count(x)"
   ]
  },
  {
   "cell_type": "code",
   "execution_count": 26,
   "metadata": {},
   "outputs": [
    {
     "name": "stderr",
     "output_type": "stream",
     "text": [
      "IOPub data rate exceeded.\n",
      "The notebook server will temporarily stop sending output\n",
      "to the client in order to avoid crashing it.\n",
      "To change this limit, set the config variable\n",
      "`--NotebookApp.iopub_data_rate_limit`.\n",
      "\n",
      "Current values:\n",
      "NotebookApp.iopub_data_rate_limit=1000000.0 (bytes/sec)\n",
      "NotebookApp.rate_limit_window=3.0 (secs)\n",
      "\n"
     ]
    }
   ],
   "source": [
    "words_list=read_file()"
   ]
  },
  {
   "cell_type": "code",
   "execution_count": 37,
   "metadata": {},
   "outputs": [],
   "source": [
    "def mentions(mentions_list):\n",
    "    mentions_list=[\"coffee\",\"beer\",\"meat\",\"sugar\",\"cigarettes\",\"nuts\",\"sunscreen\",\"chips\"]\n",
    "    total_mentions=0\n",
    "    print(\"----------------Tweets mentioning Cancer and various products------------------\")\n",
    "    for mention in mentions_list:\n",
    "        print(mention+\" : \" +str(countX(words_list,mention)))\n",
    "        total_mentions=total_mentions+countX(words_list,mention)\n",
    "    print(\"Total_Mentions : \"+ str(total_mentions))"
   ]
  },
  {
   "cell_type": "code",
   "execution_count": 39,
   "metadata": {},
   "outputs": [
    {
     "name": "stdout",
     "output_type": "stream",
     "text": [
      "----------------Tweets mentioning Cancer and various products------------------\n",
      "coffee : 3\n",
      "beer : 5\n",
      "meat : 0\n",
      "sugar : 41\n",
      "cigarettes : 2\n",
      "nuts : 0\n",
      "sunscreen : 0\n",
      "chips : 0\n",
      "Total_Mentions : 51\n"
     ]
    }
   ],
   "source": [
    "mentions(mentions_list)"
   ]
  },
  {
   "cell_type": "code",
   "execution_count": 6,
   "metadata": {},
   "outputs": [],
   "source": []
  },
  {
   "cell_type": "code",
   "execution_count": 13,
   "metadata": {},
   "outputs": [],
   "source": []
  },
  {
   "cell_type": "code",
   "execution_count": 21,
   "metadata": {},
   "outputs": [
    {
     "data": {
      "text/plain": [
       "41"
      ]
     },
     "execution_count": 21,
     "metadata": {},
     "output_type": "execute_result"
    }
   ],
   "source": []
  },
  {
   "cell_type": "code",
   "execution_count": null,
   "metadata": {},
   "outputs": [],
   "source": []
  }
 ],
 "metadata": {
  "kernelspec": {
   "display_name": "Python [conda env:anaconda3]",
   "language": "python",
   "name": "conda-env-anaconda3-py"
  },
  "language_info": {
   "codemirror_mode": {
    "name": "ipython",
    "version": 2
   },
   "file_extension": ".py",
   "mimetype": "text/x-python",
   "name": "python",
   "nbconvert_exporter": "python",
   "pygments_lexer": "ipython2",
   "version": "2.7.15"
  }
 },
 "nbformat": 4,
 "nbformat_minor": 2
}
