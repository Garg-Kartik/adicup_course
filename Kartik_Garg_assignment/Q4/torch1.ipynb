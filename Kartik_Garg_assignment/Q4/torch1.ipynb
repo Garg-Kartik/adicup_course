{
 "cells": [
  {
   "cell_type": "code",
   "execution_count": 1,
   "metadata": {},
   "outputs": [],
   "source": [
    "import torch\n",
    "import torch.nn as nn\n",
    "import torch.utils.data as tdata\n",
    "import torchvision.datasets as dsets\n",
    "import torchvision.transforms as transforms\n",
    "from torch.autograd import Variable\n",
    "import numpy as np\n",
    "import string"
   ]
  },
  {
   "cell_type": "code",
   "execution_count": 2,
   "metadata": {},
   "outputs": [
    {
     "name": "stdout",
     "output_type": "stream",
     "text": [
      "Size of training data=60000\n",
      "Size of test data=10000\n"
     ]
    }
   ],
   "source": [
    "input_size=784\n",
    "hidden_size=500\n",
    "num_classes=10\n",
    "num_epochs=5\n",
    "batch_size=100\n",
    "learn_rate=0.001\n",
    "\n",
    "train_dataset=dsets.MNIST(root='./data',train=True, transform=transforms.ToTensor(),download=True)\n",
    "test_dataset=dsets.MNIST(root='./data',train=False, transform=transforms.ToTensor())\n",
    "train_loader=tdata.DataLoader(dataset=test_dataset,batch_size=batch_size,shuffle=True)\n",
    "test_loader=tdata.DataLoader(dataset=test_dataset,batch_size=batch_size,shuffle=False)\n",
    "print(\"Size of training data=\"+str(len(train_dataset)))\n",
    "print(\"Size of test data=\" +str(len(test_dataset)))\n"
   ]
  },
  {
   "cell_type": "code",
   "execution_count": 3,
   "metadata": {},
   "outputs": [],
   "source": [
    "class Net(nn.Module):\n",
    "    def __init__(self,input_size,hidden_size,num_classes):\n",
    "        super(Net,self).__init__()\n",
    "        self.fcl=nn.Linear(input_size,hidden_size)\n",
    "        self.relu=nn.ReLU()\n",
    "        self.fc2 = nn.Linear(hidden_size,num_classes)\n",
    "        \n",
    "    def forward(self,x):\n",
    "        out=self.fcl(x)\n",
    "        out=self.relu(out)\n",
    "        out=self.fc2(out)\n",
    "        return out\n",
    "net=Net(input_size,hidden_size,num_classes)\n",
    "criterion=nn.CrossEntropyLoss()\n",
    "optimizer=torch.optim.Adam(net.parameters(),lr=learn_rate)\n",
    "    \n"
   ]
  },
  {
   "cell_type": "code",
   "execution_count": 4,
   "metadata": {},
   "outputs": [
    {
     "name": "stdout",
     "output_type": "stream",
     "text": [
      "Epoch=0\n",
      "Step= 100\n",
      "Loss= 0.42389512062072754\n",
      "Epoch=1\n",
      "Step= 100\n",
      "Loss= 0.25517237186431885\n",
      "Epoch=2\n",
      "Step= 100\n",
      "Loss= 0.08826715499162674\n",
      "Epoch=3\n",
      "Step= 100\n",
      "Loss= 0.12104799598455429\n",
      "Epoch=4\n",
      "Step= 100\n",
      "Loss= 0.055754438042640686\n"
     ]
    }
   ],
   "source": [
    "nsteps=int(len(train_dataset)/batch_size)\n",
    "\n",
    "for epoch in range(0,num_epochs):\n",
    "    for i,(images,labels) in enumerate(train_loader):\n",
    "        images=Variable(images.view(-1,input_size))\n",
    "        labels=Variable(labels)\n",
    "        \n",
    "        optimizer.zero_grad()\n",
    "        outputs=net(images)\n",
    "        loss=criterion(outputs,labels)\n",
    "        loss.backward()\n",
    "        optimizer.step()\n",
    "        \n",
    "        if (i+1) %100==0:\n",
    "            print(\"Epoch=\"+str(epoch))\n",
    "            print(\"Step= \"+str(i+1))\n",
    "            print(\"Loss= \"+str(loss.data.item()))"
   ]
  },
  {
   "cell_type": "code",
   "execution_count": 5,
   "metadata": {},
   "outputs": [
    {
     "name": "stdout",
     "output_type": "stream",
     "text": [
      " \n",
      "Classification Accuracy: 97.00%\n",
      " \n",
      "Confusion Matrix\n",
      "      |----------------------- Predicted -------------------------|\n",
      "Actual|  0  |  1  |  2  |  3  |  4  |  5  |  6  |  7  |  8  |  9  |\n",
      "======|=====|=====|=====|=====|=====|=====|=====|=====|=====|=====|\n",
      "   0  |  962|    0|    0|    1|    0|    2|   10|    1|    4|    0|\n",
      "   1  |    0| 1124|    3|    1|    0|    1|    1|    3|    2|    0|\n",
      "   2  |    0|    1| 1006|    1|    3|    0|    3|   11|    7|    0|\n",
      "   3  |    0|    0|    1|  975|    0|   14|    0|   11|    9|    0|\n",
      "   4  |    0|    0|    1|    0|  963|    0|    3|    2|    3|   10|\n",
      "   5  |    1|    1|    0|    2|    0|  880|    6|    0|    0|    2|\n",
      "   6  |    1|    3|    0|    0|    1|   10|  941|    1|    1|    0|\n",
      "   7  |    1|    4|    0|    0|    0|    1|    0| 1020|    1|    1|\n",
      "   8  |    1|    1|    0|    7|    1|    5|    4|    5|  949|    1|\n",
      "   9  |    3|    5|    0|    7|    8|    6|    1|    9|    5|  965|\n"
     ]
    }
   ],
   "source": [
    "total=0\n",
    "correct=0\n",
    "\n",
    "confusion_matrix=np.zeros((num_classes,num_classes))\n",
    "for images,labels in test_loader:\n",
    "    images=Variable(images.view(-1,input_size))\n",
    "    outputs=net(images)\n",
    "    _, predicted = torch.max(outputs.data, 1)\n",
    "    \n",
    "    for i in range(0,len(labels)):\n",
    "        act=labels[i]\n",
    "        prd=predicted[i]\n",
    "        confusion_matrix[act,prd]+=1\n",
    "    total+=labels.size(0)\n",
    "    correct+=(predicted==labels).sum()\n",
    "print(' ')\n",
    "print('Classification Accuracy: {:.2f}%'.format(100 * correct / total))\n",
    "print(' ')\n",
    "print('Confusion Matrix')\n",
    "print('      |----------------------- Predicted -------------------------|')\n",
    "print('Actual|  0  |  1  |  2  |  3  |  4  |  5  |  6  |  7  |  8  |  9  |')\n",
    "print('======|=====|=====|=====|=====|=====|=====|=====|=====|=====|=====|')\n",
    "for i in range(0,10):\n",
    "    print('   {:d}  |'.format(i), end='')\n",
    "    for j in range(0,10):\n",
    "        cm = int(confusion_matrix[i,j])\n",
    "        print('{:5d}|'.format(cm),end='')\n",
    "    print('')\n",
    "    \n",
    "torch.save(net.state_dict(),'mnist_model.pkl')"
   ]
  },
  {
   "cell_type": "code",
   "execution_count": null,
   "metadata": {},
   "outputs": [],
   "source": []
  }
 ],
 "metadata": {
  "kernelspec": {
   "display_name": "Python [conda env:conda_torch]",
   "language": "python",
   "name": "conda-env-conda_torch-py"
  },
  "language_info": {
   "codemirror_mode": {
    "name": "ipython",
    "version": 3
   },
   "file_extension": ".py",
   "mimetype": "text/x-python",
   "name": "python",
   "nbconvert_exporter": "python",
   "pygments_lexer": "ipython3",
   "version": "3.6.6"
  }
 },
 "nbformat": 4,
 "nbformat_minor": 2
}
